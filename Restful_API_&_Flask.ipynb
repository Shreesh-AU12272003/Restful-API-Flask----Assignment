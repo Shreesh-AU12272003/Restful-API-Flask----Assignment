{
  "nbformat": 4,
  "nbformat_minor": 0,
  "metadata": {
    "colab": {
      "provenance": []
    },
    "kernelspec": {
      "name": "python3",
      "display_name": "Python 3"
    },
    "language_info": {
      "name": "python"
    }
  },
  "cells": [
    {
      "cell_type": "markdown",
      "source": [
        "###THEORY QUESTIONS"
      ],
      "metadata": {
        "id": "QXIY9EtfY1wT"
      }
    },
    {
      "cell_type": "markdown",
      "source": [
        "###1. What is a RESTful API?\n",
        "> A RESTful API (Representational State Transfer) is an architectural style for building web services that use HTTP methods like GET, POST, PUT, and DELETE to perform operations on resources identified by URLs.\n",
        "\n",
        "###2. Explain the concept of API specification.\n",
        "> An API specification defines how APIs should behave, including endpoints, request/response formats, authentication methods, and error handling, ensuring clear communication between client and server.\n",
        "\n",
        "3. What is Flask, and why is it popular for building APIs?\n",
        "Flask is a lightweight and flexible Python web framework popular for building APIs because it is simple, easy to use, and has minimal setup, yet is highly extensible with plugins.\n",
        "\n",
        "###4. What is routing in Flask?\n",
        "> Routing in Flask maps URL paths to Python functions (called view functions). Each route defines the endpoint that the server listens to.\n",
        "\n",
        "###5. How do you create a simple Flask application?\n",
        "> Install Flask and write:\n",
        "\n",
        "> from flask import Flask\n",
        "\n",
        "> app = Flask(__name__)\n",
        "\n",
        "> @app.route('/')\n",
        "\n",
        "> def home():\n",
        "\n",
        "> return 'Hello, Flask!'\n",
        "\n",
        "> if __name__ == '__main__':\n",
        "\n",
        "> app.run(debug=True)\n",
        "\n",
        "###6. What are HTTP methods used in RESTful APIs?\n",
        "> Common HTTP methods:\n",
        "\n",
        "> GET: Retrieve data\n",
        "\n",
        "> POST: Create data\n",
        "\n",
        "> PUT: Update data\n",
        "\n",
        "> DELETE: Remove data\n",
        "\n",
        "> PATCH: Partially update data\n",
        "\n",
        "###7. What is the purpose of the @app.route() decorator in Flask?\n",
        "> The @app.route() decorator binds a URL to a view function, defining what function will be triggered when a user accesses that URL.\n",
        "\n",
        "###8. What is the difference between GET and POST HTTP methods?\n",
        "> GET: Requests data; parameters are passed in the URL.\n",
        "\n",
        "> POST: Submits data to the server; parameters are sent in the body for security.\n",
        "\n",
        "###9. How do you handle errors in Flask APIs?\n",
        "> Flask provides @app.errorhandler() decorators to define custom error handling for errors like 404 or 500.\n",
        "\n",
        "###10. How do you connect Flask to a SQL database?\n",
        "> Use extensions like Flask-SQLAlchemy to connect Flask to SQL databases by configuring database URIs and models.\n",
        "\n",
        "###11. What is the role of Flask-SQLAlchemy?\n",
        "> Flask-SQLAlchemy is an extension that simplifies SQL database integration with Flask by providing an ORM (Object-Relational Mapping) layer.\n",
        "\n",
        "###12. What are Flask blueprints, and how are they useful?\n",
        "> Blueprints help organize a Flask app into modular components, allowing better structure for large applications by grouping routes, templates, and static files.\n",
        "\n",
        "###13. What is the purpose of Flask's request object?\n",
        "> The request object in Flask provides access to incoming request data like form inputs, query parameters, and headers.\n",
        "\n",
        "###14. How do you create a RESTful API endpoint using Flask?\n",
        "> By using Flask routes combined with HTTP methods:\n",
        "\n",
        "> @app.route('/api/data', methods=['GET'])\n",
        "\n",
        "> def get_data():\n",
        "\n",
        "> return {'data': 'Sample'}\n",
        "\n",
        "###15. What is the purpose of Flask's jsonify() function?\n",
        "> jsonify() converts Python dictionaries or lists into JSON-formatted responses that APIs can return.\n",
        "\n",
        "###16. Explain Flask’s url_for() function.\n",
        "> url_for() generates URLs dynamically for a given function, making code easier to maintain and avoiding hardcoding URLs.\n",
        "\n",
        "###17. How does Flask handle static files (CSS, JavaScript, etc.)?\n",
        "> Static files are placed inside the /static/ directory, and Flask serves them automatically via the /static/filename route.\n",
        "\n",
        "###18. What is an API specification, and how does it help in building a Flask > API?\n",
        ">An API specification outlines expected inputs, outputs, and behaviors for endpoints, improving consistency and enabling better client-server collaboration.\n",
        "\n",
        "###19. What are HTTP status codes, and why are they important in a Flask API?\n",
        "> HTTP status codes indicate the outcome of a request (e.g., 200 OK, 404 Not Found, 500 Server Error) and help the client understand the server’s response.\n",
        "\n",
        "###20. How do you handle POST requests in Flask?\n",
        "> You can access POST data using the request object:\n",
        "\n",
        "> from flask import request\n",
        "\n",
        "> @app.route('/submit', methods=['POST'])\n",
        "\n",
        "> def submit():\n",
        "\n",
        "> data = request.form['name']\n",
        "\n",
        "> return f\"Received: {data}\"\n",
        "\n",
        "###21. How would you secure a Flask API?\n",
        "> Use authentication (JWT, OAuth).\n",
        "\n",
        "> Validate input data.\n",
        "\n",
        "> Use HTTPS.\n",
        "\n",
        "> Implement proper error handling and limit request sizes.\n",
        "\n",
        "###22. What is the significance of the Flask-RESTful extension?\n",
        "> Flask-RESTful simplifies building REST APIs in Flask by providing tools for request parsing, resource management, and standardized API responses.\n",
        "\n",
        "###23. What is the role of Flask’s session object?\n",
        "> The session object stores user-specific data across requests using secure cookies, useful for managing login sessions."
      ],
      "metadata": {
        "id": "7a4EtappY4Ex"
      }
    },
    {
      "cell_type": "markdown",
      "source": [
        "###PRACTICAL QUESTIONS"
      ],
      "metadata": {
        "id": "o-BhFLEEavR9"
      }
    },
    {
      "cell_type": "markdown",
      "source": [
        "###1. How do you create a basic Flask application?"
      ],
      "metadata": {
        "id": "GD62zPG7az2y"
      }
    },
    {
      "cell_type": "code",
      "source": [
        "from flask import Flask\n",
        "\n",
        "app = Flask(__name__)\n",
        "\n",
        "@app.route('/')\n",
        "def home():\n",
        "    return 'Welcome to Flask!'\n",
        "\n",
        "if __name__ == '__main__':\n",
        "    app.run(debug=True)"
      ],
      "metadata": {
        "id": "ZTmfK4PAbtW_"
      },
      "execution_count": null,
      "outputs": []
    },
    {
      "cell_type": "markdown",
      "source": [
        "###2. How do you serve static files like images or CSS in Flask?"
      ],
      "metadata": {
        "id": "bQ13H-1qcfDP"
      }
    },
    {
      "cell_type": "code",
      "source": [
        "<img src=\"{{ url_for('static', filename='image.png') }}\">"
      ],
      "metadata": {
        "id": "QOZ8VEjfbxzm"
      },
      "execution_count": null,
      "outputs": []
    },
    {
      "cell_type": "markdown",
      "source": [
        "###3. How do you define different routes with different HTTP methods in Flask?"
      ],
      "metadata": {
        "id": "DUyrDhVCchJx"
      }
    },
    {
      "cell_type": "code",
      "source": [
        "from flask import Flask, request\n",
        "\n",
        "app = Flask(__name__)\n",
        "\n",
        "@app.route('/submit', methods=['GET', 'POST'])\n",
        "def submit():\n",
        "    if request.method == 'POST':\n",
        "        return \"Data Submitted!\"\n",
        "    else:\n",
        "        return \"Send a POST Request!\"\n",
        "\n",
        "if __name__ == '__main__':\n",
        "    app.run(debug=True)"
      ],
      "metadata": {
        "id": "sD6Z3Iqibzbn"
      },
      "execution_count": null,
      "outputs": []
    },
    {
      "cell_type": "markdown",
      "source": [
        "###4. How do you render HTML templates in Flask?"
      ],
      "metadata": {
        "id": "0W9gE1mDcmQu"
      }
    },
    {
      "cell_type": "code",
      "source": [
        "from flask import Flask, render_template\n",
        "\n",
        "app = Flask(__name__)\n",
        "\n",
        "@app.route('/')\n",
        "def index():\n",
        "    return render_template('index.html')"
      ],
      "metadata": {
        "id": "tq4FfqgNbzN2"
      },
      "execution_count": null,
      "outputs": []
    },
    {
      "cell_type": "markdown",
      "source": [
        "###5. How can you generate URLs for routes in Flask using url_for?"
      ],
      "metadata": {
        "id": "RymKdpdVcoqt"
      }
    },
    {
      "cell_type": "code",
      "source": [
        "from flask import Flask, url_for\n",
        "\n",
        "app = Flask(__name__)\n",
        "\n",
        "@app.route('/home')\n",
        "def home():\n",
        "    return 'Home Page'\n",
        "\n",
        "@app.route('/about')\n",
        "def about():\n",
        "    return url_for('home')  # generates URL for home() function"
      ],
      "metadata": {
        "id": "iHr0RROFb473"
      },
      "execution_count": null,
      "outputs": []
    },
    {
      "cell_type": "markdown",
      "source": [
        "###6. How do you handle forms in Flask?"
      ],
      "metadata": {
        "id": "1zqzq19Pcqqe"
      }
    },
    {
      "cell_type": "code",
      "source": [
        "from flask import Flask, request, render_template\n",
        "\n",
        "app = Flask(__name__)\n",
        "\n",
        "@app.route('/form', methods=['GET', 'POST'])\n",
        "def form():\n",
        "    if request.method == 'POST':\n",
        "        name = request.form['name']\n",
        "        return f'Hello, {name}!'\n",
        "    return render_template('form.html')"
      ],
      "metadata": {
        "id": "PDEV7NVVb7G6"
      },
      "execution_count": null,
      "outputs": []
    },
    {
      "cell_type": "markdown",
      "source": [
        "###7. How can you validate form data in Flask?"
      ],
      "metadata": {
        "id": "z0Bb2f_Qcse9"
      }
    },
    {
      "cell_type": "code",
      "source": [
        "from flask import Flask, request\n",
        "\n",
        "app = Flask(__name__)\n",
        "\n",
        "@app.route('/submit', methods=['POST'])\n",
        "def submit():\n",
        "    name = request.form.get('name')\n",
        "    if not name:\n",
        "        return \"Name is required!\"\n",
        "    return f\"Hello, {name}!\""
      ],
      "metadata": {
        "id": "XPdOE9CHb74O"
      },
      "execution_count": null,
      "outputs": []
    },
    {
      "cell_type": "markdown",
      "source": [
        "###8. How do you manage sessions in Flask?"
      ],
      "metadata": {
        "id": "oexfYbtGcugm"
      }
    },
    {
      "cell_type": "code",
      "source": [
        "from flask import Flask, session, redirect, url_for, request\n",
        "\n",
        "app = Flask(__name__)\n",
        "app.secret_key = 'secret_key'\n",
        "\n",
        "@app.route('/login', methods=['POST'])\n",
        "def login():\n",
        "    session['user'] = request.form['username']\n",
        "    return redirect(url_for('profile'))\n",
        "\n",
        "@app.route('/profile')\n",
        "def profile():\n",
        "    if 'user' in session:\n",
        "        return f\"Logged in as {session['user']}\"\n",
        "    return \"Not logged in.\""
      ],
      "metadata": {
        "id": "iSjOHo00b-MG"
      },
      "execution_count": null,
      "outputs": []
    },
    {
      "cell_type": "markdown",
      "source": [
        "###9. How do you redirect to a different route in Flask?"
      ],
      "metadata": {
        "id": "dqjHpT3gcwiG"
      }
    },
    {
      "cell_type": "code",
      "source": [
        "from flask import Flask, redirect, url_for\n",
        "\n",
        "app = Flask(__name__)\n",
        "\n",
        "@app.route('/')\n",
        "def home():\n",
        "    return redirect(url_for('about'))\n",
        "\n",
        "@app.route('/about')\n",
        "def about():\n",
        "    return \"About Page\""
      ],
      "metadata": {
        "id": "iiLqkNo-cMSe"
      },
      "execution_count": null,
      "outputs": []
    },
    {
      "cell_type": "markdown",
      "source": [
        "###10. How do you handle errors in Flask (e.g., 404)?"
      ],
      "metadata": {
        "id": "H1Hx46T5cz1m"
      }
    },
    {
      "cell_type": "code",
      "source": [
        "from flask import Flask\n",
        "\n",
        "app = Flask(__name__)\n",
        "\n",
        "@app.errorhandler(404)\n",
        "def not_found(e):\n",
        "    return \"Page not found!\", 404"
      ],
      "metadata": {
        "id": "PNC3Gt8EcO6_"
      },
      "execution_count": null,
      "outputs": []
    },
    {
      "cell_type": "markdown",
      "source": [
        "###11. How do you structure a Flask app using Blueprints?"
      ],
      "metadata": {
        "id": "7cShwE--c2J2"
      }
    },
    {
      "cell_type": "code",
      "source": [
        "from flask import Blueprint\n",
        "\n",
        "simple_page = Blueprint('simple_page', __name__)\n",
        "\n",
        "@simple_page.route('/hello')\n",
        "def hello():\n",
        "    return \"Hello from Blueprint!\""
      ],
      "metadata": {
        "id": "varzqkt2cRcX"
      },
      "execution_count": null,
      "outputs": []
    },
    {
      "cell_type": "markdown",
      "source": [
        "###12. How do you define a custom Jinja filter in Flask?"
      ],
      "metadata": {
        "id": "jr9_995Bc35d"
      }
    },
    {
      "cell_type": "code",
      "source": [
        "from flask import Flask\n",
        "\n",
        "app = Flask(__name__)\n",
        "\n",
        "@app.template_filter('reverse')\n",
        "def reverse_filter(s):\n",
        "    return s[::-1]"
      ],
      "metadata": {
        "id": "gFdhy0ZxcSvY"
      },
      "execution_count": null,
      "outputs": []
    },
    {
      "cell_type": "markdown",
      "source": [
        "###13. How can you redirect with query parameters in Flask?"
      ],
      "metadata": {
        "id": "2GJEzvZ-c5sm"
      }
    },
    {
      "cell_type": "code",
      "source": [
        "from flask import Flask, redirect, url_for, request\n",
        "\n",
        "app = Flask(__name__)\n",
        "\n",
        "@app.route('/redirect')\n",
        "def redirect_view():\n",
        "    return redirect(url_for('profile', name='John'))\n",
        "\n",
        "@app.route('/profile')\n",
        "def profile():\n",
        "    name = request.args.get('name')\n",
        "    return f\"Profile page of {name}\""
      ],
      "metadata": {
        "id": "SPONWVPgcV2n"
      },
      "execution_count": null,
      "outputs": []
    },
    {
      "cell_type": "markdown",
      "source": [
        "###14. How do you return JSON responses in Flask?"
      ],
      "metadata": {
        "id": "BeAP2gfQc9QF"
      }
    },
    {
      "cell_type": "code",
      "source": [
        "from flask import Flask, jsonify\n",
        "\n",
        "app = Flask(__name__)\n",
        "\n",
        "@app.route('/json')\n",
        "def json_response():\n",
        "    return jsonify({'name': 'John', 'age': 30})"
      ],
      "metadata": {
        "id": "I1jOhFI6cXY-"
      },
      "execution_count": null,
      "outputs": []
    },
    {
      "cell_type": "markdown",
      "source": [
        "###15. How do you capture URL parameters in Flask?"
      ],
      "metadata": {
        "id": "Ue9R5MoQc_Nt"
      }
    },
    {
      "cell_type": "code",
      "source": [
        "from flask import Flask\n",
        "\n",
        "app = Flask(__name__)\n",
        "\n",
        "@app.route('/user/<username>')\n",
        "def show_user(username):\n",
        "    return f\"Hello, {username}!\""
      ],
      "metadata": {
        "id": "81W0qgZecY2u"
      },
      "execution_count": null,
      "outputs": []
    }
  ]
}